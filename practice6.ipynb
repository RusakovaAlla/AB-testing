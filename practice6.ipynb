{
 "cells": [
  {
   "cell_type": "code",
   "execution_count": 1,
   "metadata": {},
   "outputs": [],
   "source": [
    "from statsmodels.stats.power import tt_ind_solve_power, zt_ind_solve_power\n",
    "from statsmodels.stats.proportion import proportion_effectsize\n",
    "from statsmodels.stats.meta_analysis import effectsize_smd\n",
    "import numpy as np"
   ]
  },
  {
   "cell_type": "markdown",
   "metadata": {},
   "source": [
    "### Задание 1\n",
    "<p>Продакт на главной mail.ru решил протестировать в рекомендательной ленте контента вместо карточек со статьями видеоплеер с короткими видео. Нынешний таймспент на юзера в день в среднем равен 25 минут, а стандартная ошибка (SD) равна 156. Мы предполагаем, что в новой версии таймспент на юзера в день изменится на 10%. Средний трафик 20000 человек в день. Посчитайте сколько дней необходимо держать эксперимент при alpha = 5% и beta = 20% .</p>"
   ]
  },
  {
   "cell_type": "code",
   "execution_count": 2,
   "metadata": {},
   "outputs": [],
   "source": [
    "alph = .05\n",
    "bt = .2\n",
    "sd1, sd2 = 15, 15#6 \n",
    "flow = 20000\n",
    "timespent1, timespent2 = 25, 25*1.1\n",
    "ratio = 1"
   ]
  },
  {
   "cell_type": "code",
   "execution_count": 3,
   "metadata": {},
   "outputs": [
    {
     "data": {
      "text/plain": [
       "-0.16666354149087578"
      ]
     },
     "execution_count": 3,
     "metadata": {},
     "output_type": "execute_result"
    }
   ],
   "source": [
    "#т.к. таймспент величина непрерывная, используем effectsize_smd и tt_ind_solve_power\n",
    "#определим effect_size\n",
    "ec = effectsize_smd(mean1 = timespent1, sd1 = sd1, nobs1=flow,  mean2 = timespent2, sd2 = sd2, nobs2=flow)[0]\n",
    "ec"
   ]
  },
  {
   "cell_type": "code",
   "execution_count": 4,
   "metadata": {},
   "outputs": [
    {
     "data": {
      "text/plain": [
       "1132"
      ]
     },
     "execution_count": 4,
     "metadata": {},
     "output_type": "execute_result"
    }
   ],
   "source": [
    "experiment_number = int(tt_ind_solve_power(effect_size = ec, alpha = alph, power = 1-bt, ratio = ratio))*2\n",
    "experiment_number"
   ]
  },
  {
   "cell_type": "code",
   "execution_count": 28,
   "metadata": {},
   "outputs": [
    {
     "name": "stdout",
     "output_type": "stream",
     "text": [
      "Проводим эксперимент в течении 1.0 дня\n"
     ]
    }
   ],
   "source": [
    "experiment_duration = np.ceil(experiment_number/flow)\n",
    "#корректное окончание количества дней, для красоты\n",
    "if experiment_duration%2==0 :\n",
    "    correct_print = \"дней\"\n",
    "else:\n",
    "    correct_print = \"дня\"\n",
    "print(f'Проводим эксперимент в течении {experiment_duration} {correct_print}')"
   ]
  },
  {
   "cell_type": "markdown",
   "metadata": {},
   "source": [
    "### Задание 2\n",
    "<p>\n",
    "Наша продуктовая команда в ecommerce магазине планирует запустить тест, направленный на ускорение загрузки сайта. Одна из основных метрик bounce rate в GA = 40%. Мы предполагаем, что при оптимизации сайта она изменится минимум на 20%.Средний трафик 4000 человек в день. Посчитайте сколько нам нужно дней держать эксперимент при alpha = 5% и beta = 20%.</p>"
   ]
  },
  {
   "cell_type": "code",
   "execution_count": 29,
   "metadata": {},
   "outputs": [],
   "source": [
    "alph = .05\n",
    "bt = .2\n",
    "br1, br2 = .4, .4*.8 \n",
    "flow = 4000\n",
    "timespent1, timespent2 = .4, .4*.8 \n",
    "ratio = 1"
   ]
  },
  {
   "cell_type": "code",
   "execution_count": 30,
   "metadata": {},
   "outputs": [
    {
     "data": {
      "text/plain": [
       "0.16690997264630902"
      ]
     },
     "execution_count": 30,
     "metadata": {},
     "output_type": "execute_result"
    }
   ],
   "source": [
    "#т.к. bounce rate представляет собой пропорцию, используем proportion_effectsize и zt_ind_solve_power\n",
    "#определим effect_size\n",
    "ec = proportion_effectsize(br1, br2)\n",
    "ec"
   ]
  },
  {
   "cell_type": "code",
   "execution_count": 31,
   "metadata": {},
   "outputs": [
    {
     "data": {
      "text/plain": [
       "1126"
      ]
     },
     "execution_count": 31,
     "metadata": {},
     "output_type": "execute_result"
    }
   ],
   "source": [
    "experiment_number = int(zt_ind_solve_power(effect_size = ec, alpha = alph, power = 1-bt, ratio = ratio))*2\n",
    "experiment_number"
   ]
  },
  {
   "cell_type": "code",
   "execution_count": 32,
   "metadata": {},
   "outputs": [
    {
     "name": "stdout",
     "output_type": "stream",
     "text": [
      "Проводим эксперимент в течении 1.0 дня\n"
     ]
    }
   ],
   "source": [
    "experiment_duration = np.ceil(experiment_number/flow)\n",
    "if experiment_duration%2==0 :\n",
    "    correct_print = \"дней\"\n",
    "else:\n",
    "    correct_print = \"дня\"\n",
    "print(f'Проводим эксперимент в течении {experiment_duration} {correct_print}')"
   ]
  },
  {
   "cell_type": "code",
   "execution_count": null,
   "metadata": {},
   "outputs": [],
   "source": []
  }
 ],
 "metadata": {
  "kernelspec": {
   "display_name": "Python 3",
   "language": "python",
   "name": "python3"
  },
  "language_info": {
   "codemirror_mode": {
    "name": "ipython",
    "version": 3
   },
   "file_extension": ".py",
   "mimetype": "text/x-python",
   "name": "python",
   "nbconvert_exporter": "python",
   "pygments_lexer": "ipython3",
   "version": "3.8.5"
  }
 },
 "nbformat": 4,
 "nbformat_minor": 4
}
