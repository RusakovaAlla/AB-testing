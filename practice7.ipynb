{
 "cells": [
  {
   "cell_type": "code",
   "execution_count": 1,
   "metadata": {},
   "outputs": [],
   "source": [
    "from statsmodels.stats.power import tt_ind_solve_power, zt_ind_solve_power\n",
    "from statsmodels.stats.proportion import proportion_effectsize\n",
    "from statsmodels.stats.meta_analysis import effectsize_smd\n",
    "import numpy as np"
   ]
  },
  {
   "cell_type": "markdown",
   "metadata": {},
   "source": [
    "### Шаблон дизайна эксперимента\t\n",
    "<p><strong>Гипотеза:</strong> рассылка персонализированных PUSH-уведомлений позволит увеличить количество подписок на сервис на 2%</p>\n",
    "<p><strong>Что делаем:</strong></p>\n",
    "<ul>\n",
    "    <li>Контрольная версия: не отправляем рассылки</li>\n",
    "<li>Тестовая версия: рассылаем персонализированные PUSH-уведомления с предложением оформить подписку</li>\n",
    "    </ul>\n",
    "<p><strong>Группа для тестирования:</strong> активные клиенты, не имеющие подписки и оформляющие заказы в месяц на сумму более 5000 рублей</p>\n",
    "<p><strong>Ключевые метрики</strong></p>\n",
    "<ol>\n",
    "    <li>Количество оформленных подписок - primary</li>\n",
    "<li>Выручка от оформления подписок - secondary</li>\n",
    "<li>Выручка по заказам - secondary</li>\n",
    "<li>Средний чек по заказам - secondary</li>\n",
    "<li>Количество заказов - secondary</li>\n",
    "    </ol>\n",
    "<p><strong>План действий:</strong> если ожидаемый эффект будет достигнут, а дополнительные метрики не претерпят существенного снижения, то эксперимент считаем успешным и выкатываем изменения для всех клиентов. При недостижении эффекта и существенном падении допметрик, изменений не производим</p>"
   ]
  },
  {
   "cell_type": "markdown",
   "metadata": {},
   "source": [
    "#### Исходные данные\n",
    "<p>Пусть существующая конверсия в подписку среди пользователей - 4.5% В ходе эксперимента ожидаем увеличения ее на 2%. Средний трафик 50000 человек в день, alpha = 5% и beta = 20%. Расчитаем продолжтилеьность эксперимента</p>"
   ]
  },
  {
   "cell_type": "code",
   "execution_count": 15,
   "metadata": {},
   "outputs": [],
   "source": [
    "alph = .05\n",
    "bt = .2\n",
    "br1, br2 = .045, .045*1.02 \n",
    "flow = 50000\n",
    "ratio = 1"
   ]
  },
  {
   "cell_type": "code",
   "execution_count": 16,
   "metadata": {},
   "outputs": [
    {
     "data": {
      "text/plain": [
       "-0.004320971379514482"
      ]
     },
     "execution_count": 16,
     "metadata": {},
     "output_type": "execute_result"
    }
   ],
   "source": [
    "#т.к. конверсия представляет собой пропорцию, используем proportion_effectsize и zt_ind_solve_power\n",
    "#определим effect_size\n",
    "ec = proportion_effectsize(br1, br2)\n",
    "ec"
   ]
  },
  {
   "cell_type": "code",
   "execution_count": 17,
   "metadata": {},
   "outputs": [
    {
     "data": {
      "text/plain": [
       "1681526"
      ]
     },
     "execution_count": 17,
     "metadata": {},
     "output_type": "execute_result"
    }
   ],
   "source": [
    "experiment_number = int(zt_ind_solve_power(effect_size = ec, alpha = alph, power = 1-bt, ratio = ratio))*2\n",
    "experiment_number"
   ]
  },
  {
   "cell_type": "code",
   "execution_count": 21,
   "metadata": {},
   "outputs": [
    {
     "name": "stdout",
     "output_type": "stream",
     "text": [
      "Проводим эксперимент в течении 34.0 дней\n"
     ]
    }
   ],
   "source": [
    "experiment_duration = np.ceil(experiment_number/flow)\n",
    "if experiment_duration%10==1:\n",
    "    correct_print = \"день\"\n",
    "elif (experiment_duration<10) & (experiment_duration%10 in [2, 3, 4]): \n",
    "    correct_print = \"дня\"\n",
    "else:\n",
    "    correct_print = \"дней\"\n",
    "print(f'Проводим эксперимент в течении {experiment_duration} {correct_print}')"
   ]
  },
  {
   "cell_type": "markdown",
   "metadata": {},
   "source": [
    "### Вывод:\n",
    "<p>Эксперимент проводим в течение 34-х дней, после чего принимаем решение об успешности эксперимента.</p>"
   ]
  }
 ],
 "metadata": {
  "kernelspec": {
   "display_name": "Python 3",
   "language": "python",
   "name": "python3"
  },
  "language_info": {
   "codemirror_mode": {
    "name": "ipython",
    "version": 3
   },
   "file_extension": ".py",
   "mimetype": "text/x-python",
   "name": "python",
   "nbconvert_exporter": "python",
   "pygments_lexer": "ipython3",
   "version": "3.8.5"
  }
 },
 "nbformat": 4,
 "nbformat_minor": 4
}
