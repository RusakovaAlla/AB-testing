{
 "cells": [
  {
   "cell_type": "markdown",
   "metadata": {},
   "source": [
    "### Задание1\n",
    "\n",
    "<p>Вы провели эксперимент c упрощением формы заказа в магазине Утконос и получили результаты по метрике конверсий в покупку. Выберите метод оценки и оцените есть ли стат.значимые различия между конверсиями в двух группах при alpha = 5%. </p>\n",
    "<p>Дайте краткие рекомендации команде.</p>\n",
    "<p>Результаты:</p>\n",
    "<ol>\n",
    "<li>Число юзеров в группах , которые заходили на сайт в период эксперимента: n1 = 15550 и n2 = 15550.</li>\n",
    "<li>Число юзеров в группах , которые совершили хотя бы одну покупку за период эксперимента: n1 = 164 и n2 = 228</li> \n",
    "<li>Конверсии : conv1 = 1.05% conv2 = 1.47%.</li>\n",
    "</ol>"
   ]
  },
  {
   "cell_type": "raw",
   "metadata": {},
   "source": [
    "Формируем гипотезы: \n",
    "Н0 - нет статистических значимых различий между конверсиями в двух группах\n",
    "Н1 - различия есть."
   ]
  },
  {
   "cell_type": "code",
   "execution_count": 6,
   "metadata": {},
   "outputs": [],
   "source": [
    "import numpy as np"
   ]
  },
  {
   "cell_type": "code",
   "execution_count": 22,
   "metadata": {},
   "outputs": [],
   "source": [
    "users1, purch1, perc1 = 15550, 164, 1.05/100\n",
    "users2, purch2, perc2 = 15550, 228, 1.47/100"
   ]
  },
  {
   "cell_type": "code",
   "execution_count": 26,
   "metadata": {},
   "outputs": [],
   "source": [
    "#Расчитаем z-критерий для долей\n",
    "p1 = perc1*(1-perc1)/users1\n",
    "p2 = perc2*(1-perc2)/users2\n",
    "deviation = 1.96*np.sqrt(p1+p2)"
   ]
  },
  {
   "cell_type": "code",
   "execution_count": 27,
   "metadata": {},
   "outputs": [
    {
     "data": {
      "text/plain": [
       "[-0.007, -0.002]"
      ]
     },
     "execution_count": 27,
     "metadata": {},
     "output_type": "execute_result"
    }
   ],
   "source": [
    "intrvl = [perc1-perc2-round(deviation,4), perc1-perc2+round(deviation,4)]\n",
    "[round(num, 3) for num in intrvl]"
   ]
  },
  {
   "cell_type": "markdown",
   "metadata": {},
   "source": [
    "<p>Т.к. доверительный интервал не включает 0, то отвергаем гипотезу H0, обнаружены статистически значимые различия между конверсиями в группах пользователей. Использование упрощенной формы заказа поможет увеличить конверсию магазина</p>."
   ]
  },
  {
   "cell_type": "markdown",
   "metadata": {},
   "source": [
    "### Задание2\n",
    "\n",
    "<p>Сравниваем метрику конверсия в покупку. Размер выборки - 10000 элементов в каждой группе . Какой статистический критерий тут лучше всего подойдёт и почему?</p>"
   ]
  },
  {
   "cell_type": "raw",
   "metadata": {},
   "source": [
    "По схеме из лекции:\n",
    "т.к. конверсия в покупку будет обозначаться 0 или 1 для купивших и некупивших продукт, будем использовать качественные параметры; группы независимые, сравниваются только 2 группы. \n",
    "Выбираем критерий Хи-квадрат Пирсона"
   ]
  }
 ],
 "metadata": {
  "kernelspec": {
   "display_name": "Python 3",
   "language": "python",
   "name": "python3"
  },
  "language_info": {
   "codemirror_mode": {
    "name": "ipython",
    "version": 3
   },
   "file_extension": ".py",
   "mimetype": "text/x-python",
   "name": "python",
   "nbconvert_exporter": "python",
   "pygments_lexer": "ipython3",
   "version": "3.8.5"
  }
 },
 "nbformat": 4,
 "nbformat_minor": 4
}
